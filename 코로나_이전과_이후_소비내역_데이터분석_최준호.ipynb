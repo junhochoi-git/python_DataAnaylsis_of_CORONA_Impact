{
  "nbformat": 4,
  "nbformat_minor": 0,
  "metadata": {
    "colab": {
      "name": "코로나 이전과 이후 소비내역 데이터분석_최준호.ipynb",
      "provenance": [],
      "collapsed_sections": [],
      "include_colab_link": true
    },
    "kernelspec": {
      "name": "python3",
      "display_name": "Python 3"
    },
    "language_info": {
      "name": "python"
    }
  },
  "cells": [
    {
      "cell_type": "markdown",
      "metadata": {
        "id": "view-in-github",
        "colab_type": "text"
      },
      "source": [
        "<a href=\"https://colab.research.google.com/github/junhochoi-git/python_DataAnaylsis_of_CORONA_Impact/blob/main/%EC%BD%94%EB%A1%9C%EB%82%98_%EC%9D%B4%EC%A0%84%EA%B3%BC_%EC%9D%B4%ED%9B%84_%EC%86%8C%EB%B9%84%EB%82%B4%EC%97%AD_%EB%8D%B0%EC%9D%B4%ED%84%B0%EB%B6%84%EC%84%9D_%EC%B5%9C%EC%A4%80%ED%98%B8.ipynb\" target=\"_parent\"><img src=\"https://colab.research.google.com/assets/colab-badge.svg\" alt=\"Open In Colab\"/></a>"
      ]
    },
    {
      "cell_type": "markdown",
      "metadata": {
        "id": "QWqoZozToAyR"
      },
      "source": [
        "# 주제 : 코로나 발생 이전과 이후, 신용카드 소비내역 분석을 통한 소비증감 분석하기 \n",
        "---"
      ]
    },
    {
      "cell_type": "markdown",
      "metadata": {
        "id": "wJ2L2ZgQLaPN"
      },
      "source": [
        "### 가설 : 코로나 19 발생 이전 년도(2019년)와 이후 년도(2020년) 1년간의 소비내역 비교 분석해본다."
      ]
    },
    {
      "cell_type": "code",
      "metadata": {
        "id": "P7ZLqEwXLkG3"
      },
      "source": [
        ""
      ],
      "execution_count": null,
      "outputs": []
    },
    {
      "cell_type": "markdown",
      "metadata": {
        "id": "r-pzSreAozZg"
      },
      "source": [
        "### 01. Google Drive에 있는 데이터 가져오기 \n",
        "---"
      ]
    },
    {
      "cell_type": "markdown",
      "metadata": {
        "id": "KmZt80y_Amol"
      },
      "source": [
        "- 먼저 해당 프로젝트가 구동되고 있는 가상머신에서 사용자의 구글드라이브로 mount하도록 한다"
      ]
    },
    {
      "cell_type": "code",
      "metadata": {
        "colab": {
          "base_uri": "https://localhost:8080/"
        },
        "id": "e0-bnkZMsZaV",
        "outputId": "60a43f46-172b-47d0-c4e5-874d5cb10a75"
      },
      "source": [
        "from google.colab import drive\n",
        "drive.mount('/content/drive')"
      ],
      "execution_count": 1,
      "outputs": [
        {
          "output_type": "stream",
          "text": [
            "Drive already mounted at /content/drive; to attempt to forcibly remount, call drive.mount(\"/content/drive\", force_remount=True).\n"
          ],
          "name": "stdout"
        }
      ]
    },
    {
      "cell_type": "markdown",
      "metadata": {
        "id": "wBbnBhZ_BjgR"
      },
      "source": [
        "### 02. 필요한 라이브러리 import \n",
        "---"
      ]
    },
    {
      "cell_type": "code",
      "metadata": {
        "id": "Dgn3V9IGBoeN"
      },
      "source": [
        "import io  \n",
        "import pandas as pd # 데이터 분석에 사용할 pandas\n",
        "import numpy as np # 수치계산에 사용할 numpy\n",
        "import seaborn as sns # 시각화를 위한 seaborn \n",
        "# > 많은 데이터에 대해선 처리 속도가 느리다.\n",
        "\n",
        "\"\"\"\n",
        " 파일 경로등을 활용하기 위해\n",
        "\"\"\"\n",
        "import glob\n",
        "import os\n"
      ],
      "execution_count": 2,
      "outputs": []
    },
    {
      "cell_type": "markdown",
      "metadata": {
        "id": "POeGOQPeEmhv"
      },
      "source": [
        "- 데아터 도식화 관련 라이브러리 로드 및 한글 폰트 설정\n"
      ]
    },
    {
      "cell_type": "code",
      "metadata": {
        "id": "nlFRxrMkEqZF"
      },
      "source": [
        "# 그래프를 노트북안에 그리기위해\n",
        "%matplotlib inline  \n",
        "\n",
        "import matplotlib as mpl  # 기본 설정 만지는 용도\n",
        "import matplotlib.pyplot as plt  # 그래프 그리는 용도\n",
        "import matplotlib.font_manager as fm  # 폰트 관련 용도"
      ],
      "execution_count": 4,
      "outputs": []
    },
    {
      "cell_type": "markdown",
      "metadata": {
        "id": "iPG_OQcXuW0U"
      },
      "source": [
        "- 폰트 설치하기 (최초1회)"
      ]
    },
    {
      "cell_type": "code",
      "metadata": {
        "id": "xBQQTCDtuc4M"
      },
      "source": [
        "!apt-get update -qq\n",
        "!apt-get install fonts-nanum* -qq"
      ],
      "execution_count": null,
      "outputs": []
    },
    {
      "cell_type": "markdown",
      "metadata": {
        "id": "vk2zknI2ue7F"
      },
      "source": [
        "- 시스템에 있는 폰트 확인하기"
      ]
    },
    {
      "cell_type": "code",
      "metadata": {
        "colab": {
          "base_uri": "https://localhost:8080/"
        },
        "id": "0PB9nksxuV4f",
        "outputId": "522e7ee2-6e0d-4c8e-ab0a-7ca65f257a79"
      },
      "source": [
        "sys_font = fm.findSystemFonts()\n",
        "print(f\"sys_font number :  {len(sys_font)}\")\n",
        "\n",
        "nanum_font = [f for f in sys_font if 'Nanum' in f]\n",
        "print(f\"nanum_font number: {len(nanum_font)}\")"
      ],
      "execution_count": 5,
      "outputs": [
        {
          "output_type": "stream",
          "text": [
            "sys_font number :  48\n",
            "nanum_font number: 31\n"
          ],
          "name": "stdout"
        }
      ]
    },
    {
      "cell_type": "markdown",
      "metadata": {
        "id": "gMtH-iZWphGN"
      },
      "source": [
        "- 나눔 폰트 경로 확인하기"
      ]
    },
    {
      "cell_type": "code",
      "metadata": {
        "colab": {
          "base_uri": "https://localhost:8080/"
        },
        "id": "V8GIh7FDphbe",
        "outputId": "f9a5f95e-e29b-4571-e3ac-6caf627e7c62"
      },
      "source": [
        "nanum_font"
      ],
      "execution_count": null,
      "outputs": [
        {
          "output_type": "execute_result",
          "data": {
            "text/plain": [
              "['/usr/share/fonts/truetype/nanum/NanumSquareR.ttf',\n",
              " '/usr/share/fonts/truetype/nanum/NanumMyeongjo.ttf',\n",
              " '/usr/share/fonts/truetype/nanum/NanumBarunGothicUltraLight.ttf',\n",
              " '/usr/share/fonts/truetype/nanum/NanumSquareRoundL.ttf',\n",
              " '/usr/share/fonts/truetype/nanum/NanumGothicEcoExtraBold.ttf',\n",
              " '/usr/share/fonts/truetype/nanum/NanumMyeongjoEco.ttf',\n",
              " '/usr/share/fonts/truetype/nanum/NanumMyeongjoExtraBold.ttf',\n",
              " '/usr/share/fonts/truetype/nanum/NanumGothicEcoBold.ttf',\n",
              " '/usr/share/fonts/truetype/nanum/NanumSquareRoundR.ttf',\n",
              " '/usr/share/fonts/truetype/nanum/NanumSquareL.ttf',\n",
              " '/usr/share/fonts/truetype/nanum/NanumMyeongjoEcoBold.ttf',\n",
              " '/usr/share/fonts/truetype/nanum/NanumGothicCoding.ttf',\n",
              " '/usr/share/fonts/truetype/nanum/NanumSquareRoundEB.ttf',\n",
              " '/usr/share/fonts/truetype/nanum/NanumBarunGothic.ttf',\n",
              " '/usr/share/fonts/truetype/nanum/NanumGothicEco.ttf',\n",
              " '/usr/share/fonts/truetype/nanum/NanumSquareB.ttf',\n",
              " '/usr/share/fonts/truetype/nanum/NanumBarunpenR.ttf',\n",
              " '/usr/share/fonts/truetype/nanum/NanumGothic.ttf',\n",
              " '/usr/share/fonts/truetype/nanum/NanumGothicLight.ttf',\n",
              " '/usr/share/fonts/truetype/nanum/NanumBarunGothicBold.ttf',\n",
              " '/usr/share/fonts/truetype/nanum/NanumBarunpenB.ttf',\n",
              " '/usr/share/fonts/truetype/nanum/NanumBrush.ttf',\n",
              " '/usr/share/fonts/truetype/nanum/NanumSquareEB.ttf',\n",
              " '/usr/share/fonts/truetype/nanum/NanumGothicBold.ttf',\n",
              " '/usr/share/fonts/truetype/nanum/NanumGothicExtraBold.ttf',\n",
              " '/usr/share/fonts/truetype/nanum/NanumMyeongjoEcoExtraBold.ttf',\n",
              " '/usr/share/fonts/truetype/nanum/NanumBarunGothicLight.ttf',\n",
              " '/usr/share/fonts/truetype/nanum/NanumGothicCoding-Bold.ttf',\n",
              " '/usr/share/fonts/truetype/nanum/NanumPen.ttf',\n",
              " '/usr/share/fonts/truetype/nanum/NanumMyeongjoBold.ttf',\n",
              " '/usr/share/fonts/truetype/nanum/NanumSquareRoundB.ttf']"
            ]
          },
          "metadata": {
            "tags": []
          },
          "execution_count": 4
        }
      ]
    },
    {
      "cell_type": "markdown",
      "metadata": {
        "id": "LqaA96pjprw1"
      },
      "source": [
        "- 현재 설정되어 있는 폰트 사이즈와 글꼴 확인"
      ]
    },
    {
      "cell_type": "code",
      "metadata": {
        "colab": {
          "base_uri": "https://localhost:8080/"
        },
        "id": "r8_UJyIepwBd",
        "outputId": "833ea112-2ddd-4d73-891f-92b21abe5d48"
      },
      "source": [
        "!python --version\n",
        "def current_font():\n",
        "  print(f\"설정 폰트 글꼴: {plt.rcParams['font.family']}, 설정 폰트 사이즈: {plt.rcParams['font.size']}\")  # 파이썬 3.6 이상 사용가능하다\n",
        "current_font()"
      ],
      "execution_count": 8,
      "outputs": [
        {
          "output_type": "stream",
          "text": [
            "Python 3.7.11\n",
            "설정 폰트 글꼴: ['NanumBarunGothic'], 설정 폰트 사이즈: 10.0\n"
          ],
          "name": "stdout"
        }
      ]
    },
    {
      "cell_type": "code",
      "metadata": {
        "id": "vWJsAmYIpOui"
      },
      "source": [
        "path = '/usr/share/fonts/truetype/nanum/NanumBarunGothic.ttf'  # 나눔바름고딕\n",
        "#font_name = fm.FontProperties(fname=path, size=10).get_name()\n",
        "font = fm.FontProperties(fname=path, size=9)\n",
        "fm._rebuild()\n",
        "plt.rc('font', family='NanumBarunGothic')\n",
        "plt.rc('axes', unicode_minus=False)"
      ],
      "execution_count": 7,
      "outputs": []
    },
    {
      "cell_type": "code",
      "metadata": {
        "id": "6X0kc1QjPfg5"
      },
      "source": [
        "# # Google Colab 사용시,\n",
        "# # 해당 컨테이너에 나눔고딕 설치,\n",
        "# !apt -qq -y install fonts-nanum > /dev/null\n",
        "\n",
        "# import matplotlib.font_manager as fm\n",
        "\n",
        "# fontpath = \"/user/share/fonts/truetype/nanum/NanumBarunGothic.ttf\"\n",
        "# font = fm.FontProperties(fname=fontpath, size = 10) \n",
        "# fm._rebuild()\n",
        "\n",
        "# #Colab에서 도식에 한글 폰트 설정\n",
        "# plt.rc(\"font\", family=\"NanumGothic\")\n",
        "# # 마이너스 폰트 깨지는 문제 해결을 위해\n",
        "# plt.rc(\"axes\", unicode_minus=False)"
      ],
      "execution_count": null,
      "outputs": []
    },
    {
      "cell_type": "markdown",
      "metadata": {
        "id": "xdR8MdpzpVm2"
      },
      "source": [
        "### 03. Pandas 로 CSV 파일 읽어오기\n",
        "---"
      ]
    },
    {
      "cell_type": "code",
      "metadata": {
        "id": "HEORWiEnzw7C"
      },
      "source": [
        "def data_load(path):\n",
        "    # 예외처리는 호출시에 적용하기\n",
        "    print(f\"csv 데이터파일 로드... 경로: {path}\")\n",
        "    os.chdir(path)\n",
        "    return sorted(glob.glob(\"*\"))\n",
        "\n",
        "def save_to_csv(df, savefile, encoding):\n",
        "    try:\n",
        "      df.to_csv(savefile, encoding = encoding)\n",
        "      print(f\"{savefile} 경로에 저장완료\")\n",
        "    except:\n",
        "      print(\"저장 경로 오류\")\n",
        "    "
      ],
      "execution_count": 19,
      "outputs": []
    },
    {
      "cell_type": "markdown",
      "metadata": {
        "id": "ZMliBHo95r-n"
      },
      "source": [
        "#### 병합과정 최초 1회 실행\n",
        "> 기준년도의 01월 부터 12월까지 별도로 쪼개진 csv파일들에 대해 병합하는 과정<br> `fileDirectory` : 여러 년도의 데이터가 담겨있는 상위 디렉토리 경로 지정<br> `fileName` : 특정 년도의 분할 csv 데이터가 담긴 디렉토리들을 리스트 형태로 선언 및 초기화<br> `year` : 병합할 연도 설정 <br> `savefile` : 병합된 csv파일을 저장할 경로 설정<br> `encoding` : pandas.to_csv() 함수에서 어떤 방식으로 encoding 할지 결정\n",
        "\n",
        "\n"
      ]
    },
    {
      "cell_type": "markdown",
      "metadata": {
        "id": "U4baSOO9A8VP"
      },
      "source": [
        "##### - 2020년 01월 부터 12월까지 데이터를 로드하여 하나의 CSV파일로 병합하기 (최초1회)"
      ]
    },
    {
      "cell_type": "code",
      "metadata": {
        "colab": {
          "base_uri": "https://localhost:8080/"
        },
        "id": "7xDRRyhOBGdr",
        "outputId": "9d47338e-4ab8-4c99-8b33-349667f00348"
      },
      "source": [
        "#   ! 경로확인 필요 !\n",
        "\n",
        "fileDirectory = \"/content/drive/MyDrive/네이버부스트코스_3조/맞춤형복지_신용카드_소비내역정보_데이터/추가데이터_2019_2020/\"\n",
        "fileName = [\"맞춤형복지_신용카드_소비내역정보_2019_여성\", \"맞춤형복지_신용카드_소비내역정보_2019_남성\", \"맞춤형복지_신용카드_소비내역정보_2020_여성\", \"맞춤형복지_신용카드_소비내역정보_2020_남성\"]\n",
        "year = 2020 \n",
        "savefile = f\"../../경로테스트_{year}.csv\" \n",
        "encoding = \"utf-8-sig\"\n",
        "kor_columns = [\"번호\", \"업종명칭\", \"2차분류코드명\", \"2차분류코드\", \"성별\", \"사용연월\", \"1차분류코드명\", \"연령별\", \"월별소비번호\", \"사용금액\", \"사용건수\", \"1차분류코드\"]\n",
        "\n",
        "#   columns = ['Unnamed: 0', 'crdCoBzkNm', 'sndCtgyNm', 'sndCtgy', 'sxClNm', 'useYymm', 'fstCtgyNm', 'agePrd', 'no', 'crdUseAmt', 'crdUseCnt', 'fstCtgy']\n",
        "#   fileName[0] : 2019_여성 csv 파일 경로 접근\n",
        "#   fileName[1] : 2019_남성 csv 파일 경로 접근\n",
        "#   fileName[2] : 2020_여성 csv 파일 경로 접근 \n",
        "#   fileName[3] : 2020_남성 csv 파일 경로 접근\n",
        "\n",
        "\n",
        "path_2020_F = fileDirectory + fileName[2]\n",
        "path_2020_M = fileDirectory + fileName[3]\n",
        "load_csvs = [] #  부모 디렉토리에서 하위 디렉토리내 csv파일을 load\n",
        "\n",
        "try:\n",
        "    load_csvs = data_load(path_2020_F)\n",
        "except: \n",
        "    print(\"파일경로 로드 오류\")\n",
        "\n",
        "\n",
        "df_2020 = pd.read_csv(load_csvs[0])   # 사용하고자 하는 dataframe을 선택\n",
        "\n",
        "#   01월 부터 12월까지 모든 데이터를 한 DataFrame으로 담기 위해서, 다음의 반복문을 거침\n",
        "#   ignore_index=True를 통해 1년간의 데이터에 대해 번호를 붙여줄 수 있음.\n",
        "i = 1\n",
        "while i < len(load_csvs):\n",
        "  df_2020 = df_2020.append(pd.read_csv(load_csvs[i]), ignore_index=True)\n",
        "  i += 1\n",
        "\n",
        "# 데이터 성별B 와 머지과정\n",
        "i=0\n",
        "try:\n",
        "  load_csvs.clear\n",
        "  load_csvs = data_load(path_2020_M)\n",
        "except:\n",
        "  print(\"파일경로 로드 오류\")\n",
        "\n",
        "while i < len(load_csvs):\n",
        "  df_2020 = df_2020.append(pd.read_csv(load_csvs[i]), ignore_index=True)\n",
        "  i += 1\n",
        "\n",
        "\n",
        "df_2020.columns = kor_columns   # df_2020.columns = kor_columns 모든 Dataframe 을 다 구성하고 실행할 것 \n",
        "print(df_2020.columns)\n",
        "\n",
        "df_2020.sort_values(\"사용연월\") # 특정 column 기준으로 정렬\n",
        "\n",
        "save_to_csv(df_2020, savefile, encoding)  # 특정 파일경로로 csv파일 저장"
      ],
      "execution_count": 20,
      "outputs": [
        {
          "output_type": "stream",
          "text": [
            "데이터 로드... 경로: /content/drive/MyDrive/네이버부스트코스_3조/맞춤형복지_신용카드_소비내역정보_데이터/추가데이터_2019_2020/맞춤형복지_신용카드_소비내역정보_2020_여성\n",
            "데이터 로드... 경로: /content/drive/MyDrive/네이버부스트코스_3조/맞춤형복지_신용카드_소비내역정보_데이터/추가데이터_2019_2020/맞춤형복지_신용카드_소비내역정보_2020_남성\n",
            "Index(['번호', '업종명칭', '2차분류코드명', '2차분류코드', '성별', '사용연월', '1차분류코드명', '연령별',\n",
            "       '월별소비번호', '사용금액', '사용건수', '1차분류코드'],\n",
            "      dtype='object')\n",
            "../../경로테스트_2020.csv 경로에 저장완료\n"
          ],
          "name": "stdout"
        }
      ]
    },
    {
      "cell_type": "markdown",
      "metadata": {
        "id": "cY_qOmSKI1u0"
      },
      "source": [
        "##### - 2019년 01월 부터 12월까지 데이터를 로드하여 하나의 CSV파일로 병합하기 (최초1회)"
      ]
    },
    {
      "cell_type": "code",
      "metadata": {
        "colab": {
          "base_uri": "https://localhost:8080/"
        },
        "id": "kIw0gTC1I1qm",
        "outputId": "20255f36-a2a7-427f-c4b8-14914ab4e69a"
      },
      "source": [
        "#  ! 경로확인 필요 !\n",
        "\n",
        "fileDirectory = \"/content/drive/MyDrive/네이버부스트코스_3조/맞춤형복지_신용카드_소비내역정보_데이터/추가데이터_2019_2020/\" \n",
        "fileName = [\"맞춤형복지_신용카드_소비내역정보_2019_여성\", \"맞춤형복지_신용카드_소비내역정보_2019_남성\", \"맞춤형복지_신용카드_소비내역정보_2020_여성\", \"맞춤형복지_신용카드_소비내역정보_2020_남성\"]\n",
        "year = 2019\n",
        "savefile = f\"../../경로테스트2_{year}.csv\" \n",
        "encoding = \"utf-8-sig\"\n",
        "kor_columns = [\"번호\", \"업종명칭\", \"2차분류코드명\", \"2차분류코드\", \"성별\", \"사용연월\", \"1차분류코드명\", \"연령별\", \"월별소비번호\", \"사용금액\", \"사용건수\", \"1차분류코드\"]\n",
        "\n",
        "#   columns = ['Unnamed: 0', 'crdCoBzkNm', 'sndCtgyNm', 'sndCtgy', 'sxClNm', 'useYymm', 'fstCtgyNm', 'agePrd', 'no', 'crdUseAmt', 'crdUseCnt', 'fstCtgy']\n",
        "#   fileName[0] : 2019_여성 csv 파일 경로 접근\n",
        "#   fileName[1] : 2019_남성 csv 파일 경로 접근\n",
        "#   fileName[2] : 2020_여성 csv 파일 경로 접근 \n",
        "#   fileName[3] : 2020_남성 csv 파일 경로 접근\n",
        "\n",
        "path_2019_F = fileDirectory + fileName[0]\n",
        "path_2019_M = fileDirectory + fileName[1]\n",
        "load_csvs = [] #  부모 디렉토리에서 하위 디렉토리내 csv파일을 load\n",
        "\n",
        "try:\n",
        "  load_csvs = data_load(path_2019_F)\n",
        "except:\n",
        "  print(\"파일경로 오류\")\n",
        "\n",
        "\n",
        "df_2019 = pd.read_csv(load_csvs[0])   # 사용하고자 하는 dataframe을 선택\n",
        "#   01월 부터 12월까지 모든 데이터를 한 DataFrame으로 담기 위해서, 다음의 반복문을 거침\n",
        "#   ignore_index=True를 통해 1년간의 데이터에 대해 번호를 붙여줄 수 있음.\n",
        "i = 1\n",
        "while i < len(load_csvs):\n",
        "  df_2019 = df_2019.append(pd.read_csv(load_csvs[i]), ignore_index=True)\n",
        "  i += 1\n",
        "\n",
        "#   데이터 성별B 와 머지과정\n",
        "i=0\n",
        "try:\n",
        "  load_csvs.clear \n",
        "  load_csvs = data_load(path_2019_M)\n",
        "except:\n",
        "  print(\"파일경로 오류\")\n",
        "\n",
        "while i < len(load_csvs):\n",
        "  df_2019 = df_2019.append(pd.read_csv(load_csvs[i]), ignore_index=True)\n",
        "  i += 1\n",
        "\n",
        "df_2019.columns = kor_columns   # df_2020.columns = kor_columns 모든 Dataframe 을 다 구성하고 실행할 것 \n",
        "print(df_2019.columns)\n",
        "\n",
        "df_2019.sort_values(\"사용연월\")   # 특정 column 기준으로 정렬\n",
        "\n",
        "save_to_csv(df_2019, savefile, encoding)  # 특정 파일경로로 csv파일 저장"
      ],
      "execution_count": 21,
      "outputs": [
        {
          "output_type": "stream",
          "text": [
            "데이터 로드... 경로: /content/drive/MyDrive/네이버부스트코스_3조/맞춤형복지_신용카드_소비내역정보_데이터/추가데이터_2019_2020/맞춤형복지_신용카드_소비내역정보_2019_여성\n",
            "데이터 로드... 경로: /content/drive/MyDrive/네이버부스트코스_3조/맞춤형복지_신용카드_소비내역정보_데이터/추가데이터_2019_2020/맞춤형복지_신용카드_소비내역정보_2019_남성\n",
            "Index(['번호', '업종명칭', '2차분류코드명', '2차분류코드', '성별', '사용연월', '1차분류코드명', '연령별',\n",
            "       '월별소비번호', '사용금액', '사용건수', '1차분류코드'],\n",
            "      dtype='object')\n",
            "../../경로테스트2_2019.csv 경로에 저장완료\n"
          ],
          "name": "stdout"
        }
      ]
    },
    {
      "cell_type": "markdown",
      "metadata": {
        "id": "0k3xOAOqMIh8"
      },
      "source": [
        "#### - **(병합 이후)** 통합데이터 Pandas Dataframe으로 로드하기"
      ]
    },
    {
      "cell_type": "code",
      "metadata": {
        "id": "FPRVjZmQcnLY"
      },
      "source": [
        "fileDirectory = \"/content/drive/MyDrive/네이버부스트코스_3조/맞춤형복지_신용카드_소비내역정보_데이터/\"\n",
        "fileName = [\"맞춤형복지_신용카드_소비내역_통합정보_2020.csv\", \"맞춤형복지_신용카드_소비내역_통합정보_2019.csv\"]\n",
        "\n",
        "filePath_2020 = fileDirectory + fileName[0]\n",
        "filePath_2019 = fileDirectory + fileName[1]\n",
        "\n",
        "df_total_2020 = pd.read_csv(filePath_2020)\n",
        "df_total_2019 = pd.read_csv(filePath_2019)"
      ],
      "execution_count": 9,
      "outputs": []
    },
    {
      "cell_type": "markdown",
      "metadata": {
        "id": "Y3f1GzpOcpwb"
      },
      "source": [
        "### 04. 데이터 결측치 확인\n",
        "---"
      ]
    },
    {
      "cell_type": "code",
      "metadata": {
        "colab": {
          "base_uri": "https://localhost:8080/",
          "height": 501
        },
        "id": "fDJWlUXzK575",
        "outputId": "c560e1bb-62b7-4631-9421-a9b3fe90a75c"
      },
      "source": [
        "df_total_2020.isnull().sum().plot.barh(figsize=(6,8))\n",
        "#df_total_2020.isnull().sum()"
      ],
      "execution_count": 11,
      "outputs": [
        {
          "output_type": "execute_result",
          "data": {
            "text/plain": [
              "<matplotlib.axes._subplots.AxesSubplot at 0x7fc02b9c2390>"
            ]
          },
          "metadata": {
            "tags": []
          },
          "execution_count": 11
        },
        {
          "output_type": "display_data",
          "data": {
            "image/png": "[encoded data removed]",
            "text/plain": [
              "<Figure size 432x576 with 1 Axes>"
            ]
          },
          "metadata": {
            "tags": [],
            "needs_background": "light"
          }
        }
      ]
    },
    {
      "cell_type": "code",
      "metadata": {
        "colab": {
          "base_uri": "https://localhost:8080/",
          "height": 501
        },
        "id": "kNgaISbzK52I",
        "outputId": "6e1deb15-628c-4d17-c85d-8ecb3305b43c"
      },
      "source": [
        "df_total_2019.isnull().sum().plot.barh(figsize=(6,8))\n",
        "#df_total_2019.isnull().sum()"
      ],
      "execution_count": 10,
      "outputs": [
        {
          "output_type": "execute_result",
          "data": {
            "text/plain": [
              "<matplotlib.axes._subplots.AxesSubplot at 0x7fc02bb2efd0>"
            ]
          },
          "metadata": {
            "tags": []
          },
          "execution_count": 10
        },
        {
          "output_type": "display_data",
          "data": {
            "image/png": "[encoded data removed]",
            "text/plain": [
              "<Figure size 432x576 with 1 Axes>"
            ]
          },
          "metadata": {
            "tags": [],
            "needs_background": "light"
          }
        }
      ]
    },
    {
      "cell_type": "markdown",
      "metadata": {
        "id": "SNWV7xJzKzR4"
      },
      "source": [
        "### 05. 데이터 시각화\n",
        "---"
      ]
    },
    {
      "cell_type": "markdown",
      "metadata": {
        "id": "OEiH6Y0yGYas"
      },
      "source": [
        "#### A. 연령별,  사용금액 | 2차분류별 사용금액 | 2차 분류별 사용건수 시각화\n",
        "\n",
        "\n",
        "\n",
        "\n"
      ]
    },
    {
      "cell_type": "markdown",
      "metadata": {
        "id": "crwdrqo5N-k5"
      },
      "source": [
        "##### 2019년 "
      ]
    },
    {
      "cell_type": "code",
      "metadata": {
        "id": "vbPd66i6OBQ7"
      },
      "source": [
        "df.groupby([\"사용연월\"])[\"\"]"
      ],
      "execution_count": null,
      "outputs": []
    },
    {
      "cell_type": "markdown",
      "metadata": {
        "id": "B9qbcCp2OBpl"
      },
      "source": [
        "##### 2020년"
      ]
    },
    {
      "cell_type": "code",
      "metadata": {
        "id": "MUgKGTVne8SG"
      },
      "source": [
        ""
      ],
      "execution_count": null,
      "outputs": []
    },
    {
      "cell_type": "markdown",
      "metadata": {
        "id": "_6wq6OdIMZWJ"
      },
      "source": [
        "#### B. 성별별,  사용금액 | 2차분류별 사용금액 | 2차 분류별 사용건수 시각화"
      ]
    },
    {
      "cell_type": "markdown",
      "metadata": {
        "id": "Tn67bAIjN9NV"
      },
      "source": [
        "##### 2019년"
      ]
    },
    {
      "cell_type": "code",
      "metadata": {
        "id": "bKBqQp9nOEPP"
      },
      "source": [
        ""
      ],
      "execution_count": null,
      "outputs": []
    },
    {
      "cell_type": "markdown",
      "metadata": {
        "id": "bxPlTZUEOEgJ"
      },
      "source": [
        "##### 2020년\n"
      ]
    },
    {
      "cell_type": "code",
      "metadata": {
        "id": "UAi9FPwHOI7t"
      },
      "source": [
        ""
      ],
      "execution_count": null,
      "outputs": []
    },
    {
      "cell_type": "markdown",
      "metadata": {
        "id": "rr4uJMeQQmCW"
      },
      "source": [
        "#### C. 월별, 사용금액 | 2차분류별 사용금액 | 2차 분류별 사용건수 시각화"
      ]
    },
    {
      "cell_type": "markdown",
      "metadata": {
        "id": "WYqFfJ-9QuOm"
      },
      "source": [
        "##### 2019년"
      ]
    },
    {
      "cell_type": "code",
      "metadata": {
        "colab": {
          "base_uri": "https://localhost:8080/",
          "height": 307
        },
        "id": "uWpho8RMQukt",
        "outputId": "ad5d50c3-777a-4ce9-ab15-5db560fd67a1"
      },
      "source": [
        "df_total_2019.groupby([\"사용연월\"])[\"사용금액\"].agg([\"mean\",\"count\"])"
      ],
      "execution_count": 12,
      "outputs": [
        {
          "output_type": "execute_result",
          "data": {
            "text/plain": [
              "<matplotlib.axes._subplots.AxesSubplot at 0x7fc02b4fe710>"
            ]
          },
          "metadata": {
            "tags": []
          },
          "execution_count": 12
        },
        {
          "output_type": "display_data",
          "data": {
            "image/png": "[encoded data removed]",
            "text/plain": [
              "<Figure size 432x288 with 1 Axes>"
            ]
          },
          "metadata": {
            "tags": [],
            "needs_background": "light"
          }
        }
      ]
    },
    {
      "cell_type": "markdown",
      "metadata": {
        "id": "yDFfFpMqQw6n"
      },
      "source": [
        "##### 2020년 "
      ]
    },
    {
      "cell_type": "code",
      "metadata": {
        "colab": {
          "base_uri": "https://localhost:8080/",
          "height": 452
        },
        "id": "OzXGXdLqQyiX",
        "outputId": "a2a61b0d-5220-4f9d-eb38-e82e08315ee9"
      },
      "source": [
        "df_total_2020.groupby([\"사용연월\"])[\"사용금액\"].agg([\"mean\",\"count\"])"
      ],
      "execution_count": null,
      "outputs": [
        {
          "output_type": "execute_result",
          "data": {
            "text/html": [
              "<div>\n",
              "<style scoped>\n",
              "    .dataframe tbody tr th:only-of-type {\n",
              "        vertical-align: middle;\n",
              "    }\n",
              "\n",
              "    .dataframe tbody tr th {\n",
              "        vertical-align: top;\n",
              "    }\n",
              "\n",
              "    .dataframe thead th {\n",
              "        text-align: right;\n",
              "    }\n",
              "</style>\n",
              "<table border=\"1\" class=\"dataframe\">\n",
              "  <thead>\n",
              "    <tr style=\"text-align: right;\">\n",
              "      <th></th>\n",
              "      <th>mean</th>\n",
              "      <th>count</th>\n",
              "    </tr>\n",
              "    <tr>\n",
              "      <th>사용연월</th>\n",
              "      <th></th>\n",
              "      <th></th>\n",
              "    </tr>\n",
              "  </thead>\n",
              "  <tbody>\n",
              "    <tr>\n",
              "      <th>202001</th>\n",
              "      <td>7.190597e+07</td>\n",
              "      <td>8099</td>\n",
              "    </tr>\n",
              "    <tr>\n",
              "      <th>202002</th>\n",
              "      <td>6.707159e+07</td>\n",
              "      <td>8022</td>\n",
              "    </tr>\n",
              "    <tr>\n",
              "      <th>202003</th>\n",
              "      <td>6.854405e+07</td>\n",
              "      <td>8022</td>\n",
              "    </tr>\n",
              "    <tr>\n",
              "      <th>202004</th>\n",
              "      <td>6.709676e+07</td>\n",
              "      <td>8041</td>\n",
              "    </tr>\n",
              "    <tr>\n",
              "      <th>202005</th>\n",
              "      <td>7.305015e+07</td>\n",
              "      <td>8309</td>\n",
              "    </tr>\n",
              "    <tr>\n",
              "      <th>202006</th>\n",
              "      <td>6.883088e+07</td>\n",
              "      <td>8314</td>\n",
              "    </tr>\n",
              "    <tr>\n",
              "      <th>202007</th>\n",
              "      <td>6.935280e+07</td>\n",
              "      <td>8264</td>\n",
              "    </tr>\n",
              "    <tr>\n",
              "      <th>202008</th>\n",
              "      <td>7.437117e+07</td>\n",
              "      <td>8279</td>\n",
              "    </tr>\n",
              "    <tr>\n",
              "      <th>202009</th>\n",
              "      <td>6.596565e+07</td>\n",
              "      <td>8169</td>\n",
              "    </tr>\n",
              "    <tr>\n",
              "      <th>202010</th>\n",
              "      <td>6.893590e+07</td>\n",
              "      <td>8267</td>\n",
              "    </tr>\n",
              "    <tr>\n",
              "      <th>202011</th>\n",
              "      <td>6.830594e+07</td>\n",
              "      <td>8275</td>\n",
              "    </tr>\n",
              "    <tr>\n",
              "      <th>202012</th>\n",
              "      <td>6.687799e+07</td>\n",
              "      <td>8147</td>\n",
              "    </tr>\n",
              "  </tbody>\n",
              "</table>\n",
              "</div>"
            ],
            "text/plain": [
              "                mean  count\n",
              "사용연월                       \n",
              "202001  7.190597e+07   8099\n",
              "202002  6.707159e+07   8022\n",
              "202003  6.854405e+07   8022\n",
              "202004  6.709676e+07   8041\n",
              "202005  7.305015e+07   8309\n",
              "202006  6.883088e+07   8314\n",
              "202007  6.935280e+07   8264\n",
              "202008  7.437117e+07   8279\n",
              "202009  6.596565e+07   8169\n",
              "202010  6.893590e+07   8267\n",
              "202011  6.830594e+07   8275\n",
              "202012  6.687799e+07   8147"
            ]
          },
          "metadata": {
            "tags": []
          },
          "execution_count": 26
        }
      ]
    },
    {
      "cell_type": "markdown",
      "metadata": {
        "id": "Qgbqb72YMZjW"
      },
      "source": [
        "### 06. 탐색적 데이터 분석 적용하기"
      ]
    },
    {
      "cell_type": "code",
      "metadata": {
        "id": "3YGJIsJOMn1x"
      },
      "source": [
        ""
      ],
      "execution_count": null,
      "outputs": []
    },
    {
      "cell_type": "code",
      "metadata": {
        "id": "VQFGJ8GdMnuf"
      },
      "source": [
        ""
      ],
      "execution_count": null,
      "outputs": []
    },
    {
      "cell_type": "markdown",
      "metadata": {
        "id": "Lt6FsqnhMoEp"
      },
      "source": [
        "### 07. 텐서플로우를 활용하여 데이터 예측해보기"
      ]
    },
    {
      "cell_type": "markdown",
      "metadata": {
        "id": "g77ZfuMkMuJ2"
      },
      "source": [
        "#### (목표)  2019년 2020년 소비데이터를 기준으로, 2021년의 소비데이터를 예측해보고, 실제 2021년의 소비데이터와 비교해본다"
      ]
    },
    {
      "cell_type": "code",
      "metadata": {
        "id": "ihk2_XYOM8oc"
      },
      "source": [
        ""
      ],
      "execution_count": null,
      "outputs": []
    }
  ]
}